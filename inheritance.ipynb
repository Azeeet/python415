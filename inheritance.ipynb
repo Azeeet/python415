{
 "cells": [
  {
   "cell_type": "code",
   "execution_count": 2,
   "id": "e5006171",
   "metadata": {},
   "outputs": [
    {
     "name": "stdout",
     "output_type": "stream",
     "text": [
      "Enter name=ajit\n",
      "Enter age=20\n",
      "Enter address=it\n",
      "Hello world, I am ajit\n"
     ]
    }
   ],
   "source": [
    "class Info:\n",
    "    def __init__(self, name, age, add):\n",
    "        self.name = name\n",
    "        self.age = age\n",
    "        self.address = add \n",
    "    \n",
    "class Data(Info):\n",
    "    def data(self):\n",
    "        print(f\"Hello world, I am {self.name}\")\n",
    "    \n",
    "name = input(\"Enter name=\")\n",
    "age = int(input(\"Enter age=\"))\n",
    "add = (input(\"Enter address=\"))\n",
    "\n",
    "obj = Data(name, age, add)\n",
    "obj.data()"
   ]
  },
  {
   "cell_type": "code",
   "execution_count": 4,
   "id": "9ffd9944",
   "metadata": {},
   "outputs": [
    {
     "name": "stdout",
     "output_type": "stream",
     "text": [
      "Enter name=ajit\n",
      "Enter age=21\n",
      "Enter address=itahari\n",
      "Hello world, I am ajit I am from itahari. I am 21 years old\n"
     ]
    }
   ],
   "source": [
    "class Info:\n",
    "    def __init__(self):\n",
    "        self.name = input(\"Enter name=\")\n",
    "        self.age = int(input(\"Enter age=\"))\n",
    "        self.add = input(\"Enter address=\")\n",
    "        \n",
    "class Data(Info):\n",
    "    def data(self):\n",
    "        print(f\"Hello world, I am {self.name} I am from {self.add}. I am {self.age} years old\")\n",
    "              \n",
    "obj = Data()\n",
    "obj.data()    "
   ]
  },
  {
   "cell_type": "code",
   "execution_count": 5,
   "id": "15cefa92",
   "metadata": {},
   "outputs": [
    {
     "name": "stdout",
     "output_type": "stream",
     "text": [
      "Enter name=ajit\n",
      "Enter age=21\n",
      "Enter address=nepal\n",
      "Hello world, I am ajit I am from nepal. I am 21 years old\n"
     ]
    }
   ],
   "source": [
    "class Info:\n",
    "    def __init__(self,name,age,add):\n",
    "        self.name=name\n",
    "        self.age=age\n",
    "        self.add=add\n",
    "           \n",
    "class Data(Info):\n",
    "    def data(self):\n",
    "        print(f\"Hello world, I am {self.name} I am from {self.add}. I am {self.age} years old\")\n",
    "        \n",
    "name = input(\"Enter name=\")\n",
    "age = int(input(\"Enter age=\"))\n",
    "add = input(\"Enter address=\")\n",
    "              \n",
    "obj = Data(name,age,add)\n",
    "obj.data()    "
   ]
  },
  {
   "cell_type": "code",
   "execution_count": 3,
   "id": "137738fd",
   "metadata": {},
   "outputs": [
    {
     "name": "stdout",
     "output_type": "stream",
     "text": [
      "Enter name=ajit\n",
      "Enter age=20\n",
      "Enter address=ith\n",
      "Hello world, I am ajit. I am 20 years old\n",
      "Hello World, I am ajit. I am from ith). I am 20 years old\n"
     ]
    }
   ],
   "source": [
    "class Info:\n",
    "    def __init__(self,name,age,add):\n",
    "        self.name=name\n",
    "        self._age=age\n",
    "        self.__add=add\n",
    "    def info(self):\n",
    "        print(f\"Hello World, I am {self.name}. I am from {self.__add}. I am {self._age} years old\")\n",
    "           \n",
    "class Data(Info):\n",
    "    def data(self):\n",
    "        print(f\"Hello world, I am {self.name}. I am {self._age} years old\")\n",
    "        \n",
    "name = input(\"Enter name=\")\n",
    "age = int(input(\"Enter age=\"))\n",
    "add = input(\"Enter address=\")\n",
    "              \n",
    "obj = Data(name,age,add)\n",
    "obj.data()    \n",
    "obj.info()"
   ]
  },
  {
   "cell_type": "code",
   "execution_count": 5,
   "id": "4aa39ff5",
   "metadata": {},
   "outputs": [
    {
     "name": "stdout",
     "output_type": "stream",
     "text": [
      "Enter name=ajit\n",
      "Enter age=20\n",
      "Enter address=ith\n",
      "Hello world, I am ajit. I am 20 years old\n",
      "Hello World, I am ajit. I am from ith. I am 20 years old\n",
      "Hello World, I am ajit. I am from ith. I am 20 years old\n"
     ]
    }
   ],
   "source": [
    "class Info:\n",
    "    def __init__(self,name,age,add):\n",
    "        self.name=name\n",
    "        self._age=age\n",
    "        self.__add=add\n",
    "    def info(self):\n",
    "        print(f\"Hello World, I am {self.name}. I am from {self.__add}. I am {self._age} years old\")\n",
    "           \n",
    "class Data(Info):\n",
    "    def data(self):\n",
    "        print(f\"Hello world, I am {self.name}. I am {self._age} years old\")\n",
    "        super().info()\n",
    "        \n",
    "name = input(\"Enter name=\")\n",
    "age = int(input(\"Enter age=\"))\n",
    "add = input(\"Enter address=\")\n",
    "              \n",
    "obj = Data(name,age,add)\n",
    "obj.data()    \n",
    "obj.info()"
   ]
  },
  {
   "cell_type": "code",
   "execution_count": null,
   "id": "a1730b3c",
   "metadata": {},
   "outputs": [],
   "source": []
  }
 ],
 "metadata": {
  "kernelspec": {
   "display_name": "Python 3 (ipykernel)",
   "language": "python",
   "name": "python3"
  },
  "language_info": {
   "codemirror_mode": {
    "name": "ipython",
    "version": 3
   },
   "file_extension": ".py",
   "mimetype": "text/x-python",
   "name": "python",
   "nbconvert_exporter": "python",
   "pygments_lexer": "ipython3",
   "version": "3.9.13"
  }
 },
 "nbformat": 4,
 "nbformat_minor": 5
}
