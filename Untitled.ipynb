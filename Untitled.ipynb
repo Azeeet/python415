{
 "cells": [
  {
   "cell_type": "code",
   "execution_count": 3,
   "id": "88c94316",
   "metadata": {},
   "outputs": [],
   "source": [
    "a = 10\n",
    "b = 10.5\n",
    "c = 'Hello'\n",
    "d = True"
   ]
  },
  {
   "cell_type": "code",
   "execution_count": 8,
   "id": "775ad93c",
   "metadata": {},
   "outputs": [
    {
     "name": "stdout",
     "output_type": "stream",
     "text": [
      "10\n",
      "10.5\n",
      "Hello\n",
      "True\n"
     ]
    }
   ],
   "source": [
    "print(a)\n",
    "print(b)\n",
    "print(c)\n",
    "print(d)"
   ]
  },
  {
   "cell_type": "code",
   "execution_count": 5,
   "id": "5fbb98e8",
   "metadata": {},
   "outputs": [
    {
     "name": "stdout",
     "output_type": "stream",
     "text": [
      "<class 'int'>\n",
      "<class 'float'>\n",
      "<class 'str'>\n",
      "<class 'bool'>\n"
     ]
    }
   ],
   "source": [
    "print(type(a))\n",
    "print(type(b))\n",
    "print(type(c))\n",
    "print(type(d))"
   ]
  },
  {
   "cell_type": "code",
   "execution_count": 10,
   "id": "555ede3d",
   "metadata": {},
   "outputs": [],
   "source": [
    "# + - * / // ** %"
   ]
  },
  {
   "cell_type": "code",
   "execution_count": 11,
   "id": "18c2bb35",
   "metadata": {},
   "outputs": [
    {
     "name": "stdout",
     "output_type": "stream",
     "text": [
      "12\n",
      "8\n",
      "20\n",
      "5.0\n",
      "5\n",
      "100\n",
      "0\n"
     ]
    }
   ],
   "source": [
    "a = 10\n",
    "b = 2\n",
    "c = a + b\n",
    "d = a - b\n",
    "e = a * b\n",
    "f = a / b\n",
    "g = a // b\n",
    "h = a**2\n",
    "i = a%2\n",
    "print(c)\n",
    "print(d)\n",
    "print(e)\n",
    "print(f)\n",
    "print(g)\n",
    "print(h)\n",
    "print(i)"
   ]
  },
  {
   "cell_type": "code",
   "execution_count": 13,
   "id": "e44f506b",
   "metadata": {},
   "outputs": [
    {
     "name": "stdout",
     "output_type": "stream",
     "text": [
      "Hello World\n",
      "Hello World\n",
      "\n"
     ]
    }
   ],
   "source": [
    "a = \"Hello World\\n\"\n",
    "print(a*2)"
   ]
  },
  {
   "cell_type": "code",
   "execution_count": null,
   "id": "9c47757f",
   "metadata": {},
   "outputs": [],
   "source": [
    "# type casting\n",
    "# int()\n",
    "# float()\n",
    "# str()"
   ]
  },
  {
   "cell_type": "code",
   "execution_count": 14,
   "id": "a04bd2be",
   "metadata": {},
   "outputs": [
    {
     "data": {
      "text/plain": [
       "20"
      ]
     },
     "execution_count": 14,
     "metadata": {},
     "output_type": "execute_result"
    }
   ],
   "source": [
    "a = '20'\n",
    "b = int(a)\n",
    "b"
   ]
  },
  {
   "cell_type": "code",
   "execution_count": null,
   "id": "1aa4db04",
   "metadata": {},
   "outputs": [],
   "source": [
    "a = 15\n",
    "b = str(a)\n",
    "b"
   ]
  },
  {
   "cell_type": "code",
   "execution_count": null,
   "id": "e8d7991c",
   "metadata": {},
   "outputs": [],
   "source": [
    "a = 5\n",
    "float(a)"
   ]
  },
  {
   "cell_type": "code",
   "execution_count": null,
   "id": "407957d6",
   "metadata": {},
   "outputs": [],
   "source": [
    "# basci i/o operations"
   ]
  },
  {
   "cell_type": "code",
   "execution_count": 2,
   "id": "28ac1b59",
   "metadata": {},
   "outputs": [
    {
     "name": "stdout",
     "output_type": "stream",
     "text": [
      "5\n",
      "5\n"
     ]
    }
   ],
   "source": [
    "a = input()\n",
    "print(a)"
   ]
  },
  {
   "cell_type": "code",
   "execution_count": 3,
   "id": "6de49cf0",
   "metadata": {},
   "outputs": [
    {
     "name": "stdout",
     "output_type": "stream",
     "text": [
      "Enter a=1\n",
      "1\n"
     ]
    }
   ],
   "source": [
    "a = input(\"Enter a=\")\n",
    "print(a)"
   ]
  },
  {
   "cell_type": "code",
   "execution_count": 4,
   "id": "560cc9e6",
   "metadata": {},
   "outputs": [
    {
     "name": "stdout",
     "output_type": "stream",
     "text": [
      "Enter a=5\n",
      "Enter b=3\n",
      "53\n"
     ]
    }
   ],
   "source": [
    "a = input(\"Enter a=\")\n",
    "b = input(\"Enter b=\")\n",
    "c = a + b\n",
    "print((c))"
   ]
  },
  {
   "cell_type": "code",
   "execution_count": 5,
   "id": "4226997f",
   "metadata": {},
   "outputs": [
    {
     "name": "stdout",
     "output_type": "stream",
     "text": [
      "Enter a=4\n",
      "Enter b=6\n",
      "10\n"
     ]
    }
   ],
   "source": [
    "a = int(input(\"Enter a=\"))\n",
    "b = int(input(\"Enter b=\"))\n",
    "c = a + b\n",
    "print(c)"
   ]
  },
  {
   "cell_type": "code",
   "execution_count": 6,
   "id": "65a7317b",
   "metadata": {},
   "outputs": [
    {
     "name": "stdout",
     "output_type": "stream",
     "text": [
      "Enter p=5\n",
      "Enter t=2\n",
      "Enter r=1\n",
      "The simple interest is = 0.1\n"
     ]
    }
   ],
   "source": [
    "p = int(input(\"Enter p=\"))\n",
    "t = float(input(\"Enter t=\"))\n",
    "r = float(input(\"Enter r=\"))\n",
    "i = p*t*r/100\n",
    "print(\"The simple interest is =\", i)\n",
    "          "
   ]
  },
  {
   "cell_type": "code",
   "execution_count": null,
   "id": "59101bb7",
   "metadata": {},
   "outputs": [],
   "source": []
  },
  {
   "cell_type": "code",
   "execution_count": null,
   "id": "24ab393d",
   "metadata": {},
   "outputs": [],
   "source": []
  },
  {
   "cell_type": "code",
   "execution_count": null,
   "id": "ad669cab",
   "metadata": {},
   "outputs": [],
   "source": []
  }
 ],
 "metadata": {
  "kernelspec": {
   "display_name": "Python 3 (ipykernel)",
   "language": "python",
   "name": "python3"
  },
  "language_info": {
   "codemirror_mode": {
    "name": "ipython",
    "version": 3
   },
   "file_extension": ".py",
   "mimetype": "text/x-python",
   "name": "python",
   "nbconvert_exporter": "python",
   "pygments_lexer": "ipython3",
   "version": "3.9.13"
  }
 },
 "nbformat": 4,
 "nbformat_minor": 5
}
