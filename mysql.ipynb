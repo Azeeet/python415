{
 "cells": [
  {
   "cell_type": "code",
   "execution_count": 5,
   "id": "1f08dd31",
   "metadata": {},
   "outputs": [
    {
     "name": "stdout",
     "output_type": "stream",
     "text": [
      "Requirement already satisfied: mysql-connector in c:\\users\\itexp\\anaconda3\\lib\\site-packages (2.2.9)\n"
     ]
    }
   ],
   "source": [
    "!pip install mysql-connector"
   ]
  },
  {
   "cell_type": "code",
   "execution_count": 11,
   "id": "e4e34eba",
   "metadata": {},
   "outputs": [],
   "source": [
    "import mysql.connector\n",
    "\n",
    "database = mysql.connector.connect(\n",
    "    host=\"localhost\",\n",
    "    user=\"root\",\n",
    "    password=\"\",\n",
    "    database = \"class415pm\"\n",
    ")\n",
    "db = database.cursor()"
   ]
  },
  {
   "cell_type": "code",
   "execution_count": 12,
   "id": "a7c74f97",
   "metadata": {},
   "outputs": [
    {
     "data": {
      "text/plain": [
       "[(1, 'Ram', 20, 30, 50, 30, 50, 412, 64.5, 'B'),\n",
       " (2, 'Sita', 50, 80, 75, 65, 35, 612, 74.0, 'A'),\n",
       " (3, 'Shyam', 78, 92, 64, 74, 83, 725, 84.2, 'A'),\n",
       " (4, 'Rohan', 95, 89, 81, 77, 62, 569, 67.2, 'C'),\n",
       " (5, 'Radha', 70, 89, 46, 65, 79, 780, 76.3, 'B'),\n",
       " (6, 'Sohani', 78, 98, 63, 42, 52, 456, 63.2, 'B')]"
      ]
     },
     "execution_count": 12,
     "metadata": {},
     "output_type": "execute_result"
    }
   ],
   "source": [
    "sql = \"SELECT * FROM student\"\n",
    "db.execute(sql)\n",
    "result = db.fetchall()\n",
    "result"
   ]
  },
  {
   "cell_type": "code",
   "execution_count": 13,
   "id": "fb062cfc",
   "metadata": {},
   "outputs": [
    {
     "data": {
      "text/plain": [
       "[(2, 'Sita', 50, 80, 75, 65, 35, 612, 74.0, 'A'),\n",
       " (3, 'Shyam', 78, 92, 64, 74, 83, 725, 84.2, 'A')]"
      ]
     },
     "execution_count": 13,
     "metadata": {},
     "output_type": "execute_result"
    }
   ],
   "source": [
    "sql = \"SELECT * FROM student WHERE grade='A'\"\n",
    "db.execute(sql)\n",
    "result = db.fetchall()\n",
    "result"
   ]
  },
  {
   "cell_type": "code",
   "execution_count": 18,
   "id": "b5b788b8",
   "metadata": {},
   "outputs": [],
   "source": [
    "sql = '''INSERT INTO `student` (`sn`, `name`, `physics`, `chemistry`, `maths`, `english`, `nepali`, `total`, `per`, `grade`) \n",
    "VALUES ('9', 'Rita', '60', '98', '90', '23', '64', '769', '78.7', 'B')'''\n",
    "db.execute(sql)\n",
    "database.commit()"
   ]
  },
  {
   "cell_type": "code",
   "execution_count": 19,
   "id": "70781cb6",
   "metadata": {},
   "outputs": [
    {
     "data": {
      "text/plain": [
       "[(1, 'Ram', 20, 30, 50, 30, 50, 412, 64.5, 'B'),\n",
       " (2, 'Sita', 50, 80, 75, 65, 35, 612, 74.0, 'A'),\n",
       " (3, 'Shyam', 78, 92, 64, 74, 83, 725, 84.2, 'A'),\n",
       " (4, 'Rohan', 95, 89, 81, 77, 62, 569, 67.2, 'C'),\n",
       " (5, 'Radha', 70, 89, 46, 65, 79, 780, 76.3, 'B'),\n",
       " (6, 'Sohani', 78, 98, 63, 42, 52, 456, 63.2, 'B'),\n",
       " (7, 'Shya', 40, 78, 59, 63, 44, 569, 63.7, 'C'),\n",
       " (8, 'Rita', 60, 98, 90, 23, 64, 769, 78.7, 'B'),\n",
       " (9, 'Rita', 60, 98, 90, 23, 64, 769, 78.7, 'B')]"
      ]
     },
     "execution_count": 19,
     "metadata": {},
     "output_type": "execute_result"
    }
   ],
   "source": [
    "sql = \"SELECT * FROM student\"\n",
    "db.execute(sql)\n",
    "result = db.fetchall()\n",
    "result"
   ]
  },
  {
   "cell_type": "code",
   "execution_count": null,
   "id": "bed91881",
   "metadata": {},
   "outputs": [],
   "source": []
  }
 ],
 "metadata": {
  "kernelspec": {
   "display_name": "Python 3 (ipykernel)",
   "language": "python",
   "name": "python3"
  },
  "language_info": {
   "codemirror_mode": {
    "name": "ipython",
    "version": 3
   },
   "file_extension": ".py",
   "mimetype": "text/x-python",
   "name": "python",
   "nbconvert_exporter": "python",
   "pygments_lexer": "ipython3",
   "version": "3.9.13"
  }
 },
 "nbformat": 4,
 "nbformat_minor": 5
}
