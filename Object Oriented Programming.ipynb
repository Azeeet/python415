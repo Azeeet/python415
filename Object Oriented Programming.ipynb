{
 "cells": [
  {
   "cell_type": "code",
   "execution_count": 1,
   "id": "ce10b210",
   "metadata": {},
   "outputs": [
    {
     "name": "stdout",
     "output_type": "stream",
     "text": [
      "Hello World\n"
     ]
    }
   ],
   "source": [
    "class Hello:\n",
    "    print(\"Hello World\")\n",
    "    \n",
    "obj = Hello()"
   ]
  },
  {
   "cell_type": "code",
   "execution_count": 2,
   "id": "3993432c",
   "metadata": {},
   "outputs": [
    {
     "ename": "TypeError",
     "evalue": "Hello() takes 0 positional arguments but 1 was given",
     "output_type": "error",
     "traceback": [
      "\u001b[1;31m---------------------------------------------------------------------------\u001b[0m",
      "\u001b[1;31mTypeError\u001b[0m                                 Traceback (most recent call last)",
      "\u001b[1;32mC:\\Program Files\\KMSpico\\temp\\ipykernel_17492\\3873092589.py\u001b[0m in \u001b[0;36m<module>\u001b[1;34m\u001b[0m\n\u001b[0;32m      4\u001b[0m \u001b[1;33m\u001b[0m\u001b[0m\n\u001b[0;32m      5\u001b[0m \u001b[0mobj\u001b[0m \u001b[1;33m=\u001b[0m \u001b[0mHello\u001b[0m\u001b[1;33m(\u001b[0m\u001b[1;33m)\u001b[0m\u001b[1;33m\u001b[0m\u001b[1;33m\u001b[0m\u001b[0m\n\u001b[1;32m----> 6\u001b[1;33m \u001b[0mobj\u001b[0m\u001b[1;33m.\u001b[0m\u001b[0mHello\u001b[0m\u001b[1;33m(\u001b[0m\u001b[1;33m)\u001b[0m\u001b[1;33m\u001b[0m\u001b[1;33m\u001b[0m\u001b[0m\n\u001b[0m",
      "\u001b[1;31mTypeError\u001b[0m: Hello() takes 0 positional arguments but 1 was given"
     ]
    }
   ],
   "source": [
    "class Hello:\n",
    "    def Hello():\n",
    "        print(\"Hello World\")\n",
    "        \n",
    "obj = Hello()\n",
    "obj.Hello()"
   ]
  },
  {
   "cell_type": "code",
   "execution_count": 3,
   "id": "0d7869e6",
   "metadata": {},
   "outputs": [
    {
     "name": "stdout",
     "output_type": "stream",
     "text": [
      "Hello World\n"
     ]
    }
   ],
   "source": [
    "class Hello:\n",
    "    def Hello(self):\n",
    "        print(\"Hello World\")\n",
    "        \n",
    "obj = Hello()\n",
    "obj.Hello()"
   ]
  },
  {
   "cell_type": "code",
   "execution_count": 4,
   "id": "7b854d4c",
   "metadata": {},
   "outputs": [
    {
     "name": "stdout",
     "output_type": "stream",
     "text": [
      "Hello World\n"
     ]
    }
   ],
   "source": [
    "class Hello:\n",
    "    @staticmethod\n",
    "    def Hello():\n",
    "        print(\"Hello World\")\n",
    "        \n",
    "obj = Hello()\n",
    "obj.Hello()"
   ]
  },
  {
   "cell_type": "code",
   "execution_count": 12,
   "id": "b378dc37",
   "metadata": {},
   "outputs": [
    {
     "name": "stdout",
     "output_type": "stream",
     "text": [
      "Enter the value of l2\n",
      "Enter the value of b5\n",
      "Enter the value of h3\n",
      "10\n",
      "30\n"
     ]
    }
   ],
   "source": [
    "class Cal:\n",
    "    def area(self,l,b):\n",
    "        a = l * b\n",
    "        print(a)\n",
    "    def volume(self,l,b,h):\n",
    "        print(l*b*h)\n",
    "        \n",
    "\n",
    "l = int(input(\"Enter the value of l\")) \n",
    "b = int(input(\"Enter the value of b\")) \n",
    "h = int(input(\"Enter the value of h\")) \n",
    "obj = Cal()\n",
    "obj.area(l,b)\n",
    "obj.volume(l,b,h)"
   ]
  },
  {
   "cell_type": "code",
   "execution_count": 13,
   "id": "c06832cd",
   "metadata": {},
   "outputs": [
    {
     "name": "stdout",
     "output_type": "stream",
     "text": [
      "Enter the value of l2\n",
      "Enter the value of b5\n",
      "Enter the value of h2\n",
      "10\n",
      "20\n"
     ]
    }
   ],
   "source": [
    "class Cal:\n",
    "    def area(self,l,b):\n",
    "        a = l * b\n",
    "        print(a)\n",
    "class Vol:\n",
    "    def volume(self,l,b,h):\n",
    "        print(l*b*h)\n",
    "        \n",
    "\n",
    "l = int(input(\"Enter the value of l\")) \n",
    "b = int(input(\"Enter the value of b\")) \n",
    "h = int(input(\"Enter the value of h\")) \n",
    "obj1 = Cal()\n",
    "obj2 = Vol()\n",
    "obj1.area(l,b)\n",
    "obj2.volume(l,b,h)"
   ]
  },
  {
   "cell_type": "code",
   "execution_count": 15,
   "id": "2aed45fd",
   "metadata": {},
   "outputs": [
    {
     "name": "stdout",
     "output_type": "stream",
     "text": [
      "Enter the value of l2\n",
      "Enter the value of b3\n",
      "Enter the value of h5\n",
      "6\n",
      "30\n"
     ]
    }
   ],
   "source": [
    "class Cal:\n",
    "    def __init__(self, l, b, h):\n",
    "        self.l = l\n",
    "        self.b = b\n",
    "        self.h = h\n",
    "        \n",
    "    def area(self):\n",
    "        a = self.l * self.b\n",
    "        print(a)\n",
    "    def volume(self):\n",
    "        print(self.l*self.b*self.h)\n",
    "        \n",
    "\n",
    "l = int(input(\"Enter the value of l\")) \n",
    "b = int(input(\"Enter the value of b\")) \n",
    "h = int(input(\"Enter the value of h\")) \n",
    "obj = Cal(l, b, h)\n",
    "obj.area()\n",
    "obj.volume()"
   ]
  },
  {
   "cell_type": "code",
   "execution_count": null,
   "id": "6e4c13d9",
   "metadata": {},
   "outputs": [],
   "source": [
    "class Cal:\n",
    "    def __init__(s, l, b, h):\n",
    "        s.l = l\n",
    "        s.b = b\n",
    "        s.h = h\n",
    "        \n",
    "    def area(s):\n",
    "        a = s.l * s.b\n",
    "        print(a)\n",
    "    def volume(s):\n",
    "        print(s.l*s.b*s.h)\n",
    "        \n",
    "\n",
    "l = int(input(\"Enter the value of l\")) \n",
    "b = int(input(\"Enter the value of b\")) \n",
    "h = int(input(\"Enter the value of h\")) \n",
    "obj = Cal(l, b, h)\n",
    "obj.area()\n",
    "obj.volume()"
   ]
  },
  {
   "cell_type": "code",
   "execution_count": 16,
   "id": "5b8322a9",
   "metadata": {},
   "outputs": [
    {
     "name": "stdout",
     "output_type": "stream",
     "text": [
      "Enter the value of l2\n",
      "Enter the value of b3\n",
      "Enter the value of h56\n",
      "6\n",
      "336\n"
     ]
    }
   ],
   "source": [
    "class Cal:\n",
    "    def __init__(s, l, b, h):\n",
    "        s.l = l\n",
    "        s.b = b\n",
    "        s.h = h\n",
    "        \n",
    "    def area(s):\n",
    "        a = s.l * s.b\n",
    "        print(a)\n",
    "    def volume(s):\n",
    "        print(s.l*s.b*s.h)\n",
    "        \n",
    "\n",
    "l = int(input(\"Enter the value of l\")) \n",
    "b = int(input(\"Enter the value of b\")) \n",
    "h = int(input(\"Enter the value of h\")) \n",
    "obj = Cal(l, b, h)\n",
    "obj.area()\n",
    "obj.volume()"
   ]
  },
  {
   "cell_type": "code",
   "execution_count": 18,
   "id": "c8d3554e",
   "metadata": {},
   "outputs": [
    {
     "name": "stdout",
     "output_type": "stream",
     "text": [
      "Enter the value of l2\n",
      "Enter the value of b3\n",
      "Enter the value of h5\n",
      "6\n",
      "30\n"
     ]
    }
   ],
   "source": [
    "class Cal:\n",
    "    def __init__(s, l, b, h):\n",
    "        s.l = l\n",
    "        s.b = b\n",
    "        s.h = h\n",
    "    @staticmethod\n",
    "    def area():\n",
    "        a = l * b\n",
    "        print(a)\n",
    "    def volume(s):\n",
    "        print(s.l*s.b*s.h)\n",
    "        \n",
    "\n",
    "l = int(input(\"Enter the value of l\")) \n",
    "b = int(input(\"Enter the value of b\")) \n",
    "h = int(input(\"Enter the value of h\")) \n",
    "obj = Cal(l, b, h)\n",
    "obj.area()\n",
    "obj.volume()"
   ]
  },
  {
   "cell_type": "code",
   "execution_count": null,
   "id": "e47462f3",
   "metadata": {},
   "outputs": [],
   "source": []
  }
 ],
 "metadata": {
  "kernelspec": {
   "display_name": "Python 3 (ipykernel)",
   "language": "python",
   "name": "python3"
  },
  "language_info": {
   "codemirror_mode": {
    "name": "ipython",
    "version": 3
   },
   "file_extension": ".py",
   "mimetype": "text/x-python",
   "name": "python",
   "nbconvert_exporter": "python",
   "pygments_lexer": "ipython3",
   "version": "3.9.13"
  }
 },
 "nbformat": 4,
 "nbformat_minor": 5
}
