{
 "cells": [
  {
   "cell_type": "code",
   "execution_count": 1,
   "id": "15c748ff",
   "metadata": {},
   "outputs": [],
   "source": [
    "b = open('data.txt', 'x')\n",
    "b.close()"
   ]
  },
  {
   "cell_type": "code",
   "execution_count": 5,
   "id": "0c774ce2",
   "metadata": {},
   "outputs": [
    {
     "name": "stdout",
     "output_type": "stream",
     "text": [
      "1. Hello World\n",
      "2. Hello World \n",
      "3. Hello World\n",
      "4. Hello World\n",
      "5. Hello World\n",
      "6. Hello World\n",
      "<class 'str'>\n"
     ]
    }
   ],
   "source": [
    "b = open('data.txt', 'r')\n",
    "c = b.read()\n",
    "print(c)\n",
    "print(type(c))\n",
    "b.close()"
   ]
  },
  {
   "cell_type": "code",
   "execution_count": 8,
   "id": "eed67873",
   "metadata": {},
   "outputs": [
    {
     "name": "stdout",
     "output_type": "stream",
     "text": [
      "Enter line number2\n"
     ]
    },
    {
     "data": {
      "text/plain": [
       "'2. Hello World '"
      ]
     },
     "execution_count": 8,
     "metadata": {},
     "output_type": "execute_result"
    }
   ],
   "source": [
    "data = c.split('\\n')\n",
    "line_no = int(input(\"Enter line number\"))\n",
    "data[line_no-1]"
   ]
  },
  {
   "cell_type": "code",
   "execution_count": 9,
   "id": "071838dd",
   "metadata": {},
   "outputs": [
    {
     "name": "stdout",
     "output_type": "stream",
     "text": [
      "1. Hello World\n",
      "\n"
     ]
    }
   ],
   "source": [
    "b = open('data.txt', 'r')\n",
    "c = b.readline()\n",
    "print(c)\n",
    "b.close()"
   ]
  },
  {
   "cell_type": "code",
   "execution_count": 10,
   "id": "4e07fcd4",
   "metadata": {},
   "outputs": [
    {
     "name": "stdout",
     "output_type": "stream",
     "text": [
      "1. Hello World\n",
      "2. He\n"
     ]
    }
   ],
   "source": [
    "b = open('data.txt', 'r')\n",
    "c = b.read(20)\n",
    "print(c)\n",
    "b.close()"
   ]
  },
  {
   "cell_type": "code",
   "execution_count": 11,
   "id": "89a5ea99",
   "metadata": {},
   "outputs": [],
   "source": [
    "b = open('data.txt', 'w')\n",
    "b.write('Hello World')\n",
    "b.close()"
   ]
  },
  {
   "cell_type": "code",
   "execution_count": 13,
   "id": "127974bf",
   "metadata": {},
   "outputs": [
    {
     "name": "stdout",
     "output_type": "stream",
     "text": [
      "Enter n=2\n",
      "Enter name=Ajit\n",
      "Enter price=500\n",
      "Enter quantity =2\n",
      "Enter name=Sohan\n",
      "Enter price=3\n",
      "Enter quantity =4\n",
      "All Total= 1012\n",
      "Ajit 500 2 1000\n",
      "Sohan 3 4 12\n",
      "\n"
     ]
    }
   ],
   "source": [
    "s = 0\n",
    "bill = str()\n",
    "n = int(input(\"Enter n=\"))\n",
    "for i in range(n):\n",
    "    name = input(\"Enter name=\")\n",
    "    price = int(input(\"Enter price=\"))\n",
    "    quantity = int(input(\"Enter quantity =\"))\n",
    "    total = price * quantity\n",
    "    bill = bill + f\"{name} {price} {quantity} {total}\\n\"\n",
    "    s = s + total\n",
    "    \n",
    "print(\"All Total=\", s)\n",
    "print(bill)\n",
    "\n",
    "file = open('bill.txt', 'w')\n",
    "file.write(bill)\n",
    "file.close()"
   ]
  },
  {
   "cell_type": "code",
   "execution_count": 14,
   "id": "e3b69809",
   "metadata": {},
   "outputs": [
    {
     "data": {
      "text/plain": [
       "'C:\\\\Users\\\\itexp\\\\Python 430'"
      ]
     },
     "execution_count": 14,
     "metadata": {},
     "output_type": "execute_result"
    }
   ],
   "source": [
    "pwd"
   ]
  },
  {
   "cell_type": "code",
   "execution_count": null,
   "id": "b72ce45e",
   "metadata": {},
   "outputs": [
    {
     "name": "stdout",
     "output_type": "stream",
     "text": [
      "Enter n=2\n"
     ]
    }
   ],
   "source": [
    "s = 0\n",
    "bill = str()\n",
    "n = int(input(\"Enter n=\"))\n",
    "for i in range(n):\n",
    "    name = input(\"Enter name=\")\n",
    "    price = int(input(\"Enter price=\"))\n",
    "    quantity = int(input(\"Enter quantity =\"))\n",
    "    total = price * quantity\n",
    "    bill = bill + f\"{name},{price},{quantity},{total}\\n\"\n",
    "    s = s + total\n",
    "    \n",
    "print(\"All Total=\", s)\n",
    "print(bill)\n",
    "file = open('bill.csv', 'w')\n",
    "file.write('Name, Price, Quantity,Total\\n')\n",
    "file.write()\n",
    "file.close()"
   ]
  },
  {
   "cell_type": "code",
   "execution_count": null,
   "id": "acc989d9",
   "metadata": {},
   "outputs": [],
   "source": []
  }
 ],
 "metadata": {
  "kernelspec": {
   "display_name": "Python 3 (ipykernel)",
   "language": "python",
   "name": "python3"
  },
  "language_info": {
   "codemirror_mode": {
    "name": "ipython",
    "version": 3
   },
   "file_extension": ".py",
   "mimetype": "text/x-python",
   "name": "python",
   "nbconvert_exporter": "python",
   "pygments_lexer": "ipython3",
   "version": "3.9.13"
  }
 },
 "nbformat": 4,
 "nbformat_minor": 5
}
