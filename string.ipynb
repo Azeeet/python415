{
 "cells": [
  {
   "cell_type": "code",
   "execution_count": 6,
   "id": "b47187c7",
   "metadata": {},
   "outputs": [
    {
     "data": {
      "text/plain": [
       "'l'"
      ]
     },
     "execution_count": 6,
     "metadata": {},
     "output_type": "execute_result"
    }
   ],
   "source": [
    "a = \"Hello World\"\n",
    "a[2]"
   ]
  },
  {
   "cell_type": "code",
   "execution_count": 10,
   "id": "6c60b348",
   "metadata": {},
   "outputs": [
    {
     "data": {
      "text/plain": [
       "'Hello Wo'"
      ]
     },
     "execution_count": 10,
     "metadata": {},
     "output_type": "execute_result"
    }
   ],
   "source": [
    "a = \"Hello World\"\n",
    "a[0:8]"
   ]
  },
  {
   "cell_type": "code",
   "execution_count": 11,
   "id": "2c62a68a",
   "metadata": {},
   "outputs": [
    {
     "data": {
      "text/plain": [
       "'HloW'"
      ]
     },
     "execution_count": 11,
     "metadata": {},
     "output_type": "execute_result"
    }
   ],
   "source": [
    "a = \"Hello World\"\n",
    "a[0:8:2]"
   ]
  },
  {
   "cell_type": "code",
   "execution_count": 12,
   "id": "78668fa4",
   "metadata": {},
   "outputs": [
    {
     "name": "stdout",
     "output_type": "stream",
     "text": [
      "5\n"
     ]
    }
   ],
   "source": [
    "a = 'Hello'\n",
    "print(len(a))"
   ]
  },
  {
   "cell_type": "code",
   "execution_count": 15,
   "id": "1386c9ba",
   "metadata": {},
   "outputs": [
    {
     "data": {
      "text/plain": [
       "'o'"
      ]
     },
     "execution_count": 15,
     "metadata": {},
     "output_type": "execute_result"
    }
   ],
   "source": [
    "a = 'Hello'\n",
    "a[-1]"
   ]
  },
  {
   "cell_type": "code",
   "execution_count": 21,
   "id": "992eac0f",
   "metadata": {},
   "outputs": [
    {
     "data": {
      "text/plain": [
       "'dlroW olleH'"
      ]
     },
     "execution_count": 21,
     "metadata": {},
     "output_type": "execute_result"
    }
   ],
   "source": [
    "a = 'Hello World'\n",
    "a[-1::-1]"
   ]
  },
  {
   "cell_type": "code",
   "execution_count": 23,
   "id": "9dc94b35",
   "metadata": {},
   "outputs": [
    {
     "name": "stdout",
     "output_type": "stream",
     "text": [
      "Enter name=ajit\n",
      "Enter age=20\n",
      "Enter address=itahari\n",
      "Hello, I am ajit. I am 20 years old. I am from itahari\n"
     ]
    }
   ],
   "source": [
    "name = input(\"Enter name=\")\n",
    "age = int(input(\"Enter age=\"))\n",
    "address = input(\"Enter address=\")\n",
    "\n",
    "info = f\"Hello, I am {name}. I am {age} years old. I am from {address}\"\n",
    "print(info)"
   ]
  },
  {
   "cell_type": "code",
   "execution_count": 29,
   "id": "1bb0c10f",
   "metadata": {},
   "outputs": [
    {
     "name": "stdout",
     "output_type": "stream",
     "text": [
      "Yes\n",
      "1\n"
     ]
    }
   ],
   "source": [
    "a = \"Ram Shyam Hari Gita Sita Rita\"\n",
    "if \"R\" in a:\n",
    "    print(\"Yes\")\n",
    "else:\n",
    "    print(\"No\")"
   ]
  },
  {
   "cell_type": "code",
   "execution_count": 35,
   "id": "d41a3d08",
   "metadata": {},
   "outputs": [
    {
     "name": "stdout",
     "output_type": "stream",
     "text": [
      "Enter search valueRam\n",
      "There is  Ram\n",
      "2\n"
     ]
    }
   ],
   "source": [
    "a = \"Ram Shyam Hari Sita Gita Ram\"\n",
    "b = input(\"Enter search value\")\n",
    "if b in a:\n",
    "    print(\"There is \", b)\n",
    "    print(a.count(b))\n",
    "else:\n",
    "    print(\"No\")"
   ]
  },
  {
   "cell_type": "code",
   "execution_count": 38,
   "id": "aed2ece2",
   "metadata": {},
   "outputs": [
    {
     "name": "stdout",
     "output_type": "stream",
     "text": [
      "ram shyam gita sita rita ramesh\n",
      "RAM SHYAM GITA SITA RITA RAMESH\n",
      "Ram Shyam Gita Sita Rita Ramesh\n"
     ]
    }
   ],
   "source": [
    "a = \"Ram Shyam Gita Sita Rita Ramesh\"\n",
    "print(a.lower())\n",
    "print(a.upper())\n",
    "print(a)"
   ]
  },
  {
   "cell_type": "code",
   "execution_count": 42,
   "id": "5a0a6996",
   "metadata": {},
   "outputs": [
    {
     "name": "stdout",
     "output_type": "stream",
     "text": [
      "Enter search valueajit\n",
      "No\n"
     ]
    }
   ],
   "source": [
    "a = \"Ramesh Sita Gita Rita Shyam Hari\".lower()\n",
    "b = input(\"Enter search value\").lower()\n",
    "if b in a:\n",
    "    print(\"There is \", b)\n",
    "else:\n",
    "    print(\"No\")"
   ]
  },
  {
   "cell_type": "code",
   "execution_count": 3,
   "id": "092b5a6a",
   "metadata": {},
   "outputs": [
    {
     "name": "stdout",
     "output_type": "stream",
     "text": [
      "Enter a=Mom\n",
      "Palindrome\n"
     ]
    }
   ],
   "source": [
    "a = input(\"Enter a=\").lower()\n",
    "if a == a[::-1]:\n",
    "    print(\"Palindrome\")\n",
    "else:\n",
    "    print(\"Not Palindrome\")"
   ]
  },
  {
   "cell_type": "code",
   "execution_count": 6,
   "id": "9f900d76",
   "metadata": {},
   "outputs": [
    {
     "data": {
      "text/plain": [
       "'Ramprasad Nita Ramprasad Sita Gita'"
      ]
     },
     "execution_count": 6,
     "metadata": {},
     "output_type": "execute_result"
    }
   ],
   "source": [
    "a = \"Ram Nita Ram Sita Gita\"\n",
    "a.replace('Ram', 'Ramprasad')"
   ]
  },
  {
   "cell_type": "code",
   "execution_count": 7,
   "id": "41dfc1dd",
   "metadata": {},
   "outputs": [
    {
     "data": {
      "text/plain": [
       "'Ram Nita Ram Sita Gita'"
      ]
     },
     "execution_count": 7,
     "metadata": {},
     "output_type": "execute_result"
    }
   ],
   "source": [
    "a = \"Ram Nita Ram Sita Gita\"\n",
    "a.replace('Ram', 'Ramprasad')\n",
    "a"
   ]
  },
  {
   "cell_type": "code",
   "execution_count": null,
   "id": "2f2205f6",
   "metadata": {},
   "outputs": [],
   "source": []
  }
 ],
 "metadata": {
  "kernelspec": {
   "display_name": "Python 3 (ipykernel)",
   "language": "python",
   "name": "python3"
  },
  "language_info": {
   "codemirror_mode": {
    "name": "ipython",
    "version": 3
   },
   "file_extension": ".py",
   "mimetype": "text/x-python",
   "name": "python",
   "nbconvert_exporter": "python",
   "pygments_lexer": "ipython3",
   "version": "3.9.13"
  }
 },
 "nbformat": 4,
 "nbformat_minor": 5
}
