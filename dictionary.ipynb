{
 "cells": [
  {
   "cell_type": "code",
   "execution_count": 2,
   "id": "87f5171f",
   "metadata": {},
   "outputs": [
    {
     "name": "stdout",
     "output_type": "stream",
     "text": [
      "{'a': 'Apple', 'b': 'Ball', 'c': 'Cat'}\n",
      "<class 'dict'>\n"
     ]
    }
   ],
   "source": [
    "d = {'a':'Apple', 'b':'Ball', 'c':'Cat'}\n",
    "print(d)\n",
    "print(type(d))"
   ]
  },
  {
   "cell_type": "code",
   "execution_count": 7,
   "id": "2f38433a",
   "metadata": {},
   "outputs": [
    {
     "name": "stdout",
     "output_type": "stream",
     "text": [
      "Ajit\n",
      "24\n"
     ]
    }
   ],
   "source": [
    "info = {'name': 'Ajit', 'age': 24, 'add':'Nepal'}\n",
    "print(info['name'])\n",
    "print(info['age'])"
   ]
  },
  {
   "cell_type": "code",
   "execution_count": 8,
   "id": "4b388e11",
   "metadata": {},
   "outputs": [
    {
     "name": "stdout",
     "output_type": "stream",
     "text": [
      "{'a': 'Apple', 'b': 'Ball', 'c': 'Cats'}\n"
     ]
    }
   ],
   "source": [
    "d = {}\n",
    "d['a'] = 'Apple'\n",
    "d['b'] = 'Ball'\n",
    "d['c'] = 'Cats'\n",
    "print(d)"
   ]
  },
  {
   "cell_type": "code",
   "execution_count": 13,
   "id": "436dfd48",
   "metadata": {},
   "outputs": [
    {
     "name": "stdout",
     "output_type": "stream",
     "text": [
      "Enter n=2\n",
      "Enter nameram\n",
      "Enter age20\n",
      "Enter addressitahari\n",
      "Enter nameshyam\n",
      "Enter age25\n",
      "Enter addressnepal\n",
      "{'Name': ['ram', 'shyam'], 'Age': [20, 25], 'Add': ['itahari', 'nepal']}\n"
     ]
    }
   ],
   "source": [
    "info = {'Name':[], 'Age':[], 'Add':[]}\n",
    "n = int(input(\"Enter n=\"))\n",
    "for i in range(n):\n",
    "    name = input(\"Enter name\")\n",
    "    age = int(input(\"Enter age\"))\n",
    "    add = input(\"Enter address\")\n",
    "    info['Name'].append(name)\n",
    "    info['Age'].append(age)\n",
    "    info['Add'].append(add)\n",
    "    \n",
    "print(info)"
   ]
  },
  {
   "cell_type": "code",
   "execution_count": 1,
   "id": "c422d9eb",
   "metadata": {},
   "outputs": [
    {
     "name": "stdout",
     "output_type": "stream",
     "text": [
      "[{'Name': 'Ram', 'Age': 20, 'Add': 'Nepal'}, {'Name': 'Shyam', 'Age': 21, 'Add': 'China'}, {'Name': 'Hari', 'Age': 25, 'Add': 'Japan'}]\n",
      "<class 'list'>\n"
     ]
    }
   ],
   "source": [
    "a = [{'Name':'Ram', 'Age':20, 'Add':'Nepal'},\n",
    "     {'Name':'Shyam', 'Age':21, 'Add':'China'},\n",
    "     {'Name':'Hari', 'Age':25, 'Add':'Japan'}    \n",
    "]\n",
    "print(a)\n",
    "print(type(a))"
   ]
  },
  {
   "cell_type": "code",
   "execution_count": 2,
   "id": "1756dc3f",
   "metadata": {},
   "outputs": [
    {
     "data": {
      "text/plain": [
       "{'Name': 'Ram', 'Age': 20, 'Add': 'Nepal'}"
      ]
     },
     "execution_count": 2,
     "metadata": {},
     "output_type": "execute_result"
    }
   ],
   "source": [
    "a[0]"
   ]
  },
  {
   "cell_type": "code",
   "execution_count": 4,
   "id": "72c842f0",
   "metadata": {},
   "outputs": [
    {
     "data": {
      "text/plain": [
       "'Ram'"
      ]
     },
     "execution_count": 4,
     "metadata": {},
     "output_type": "execute_result"
    }
   ],
   "source": [
    "a[0]['Name']"
   ]
  },
  {
   "cell_type": "code",
   "execution_count": 6,
   "id": "0727848a",
   "metadata": {},
   "outputs": [
    {
     "name": "stdout",
     "output_type": "stream",
     "text": [
      "Ram\n",
      "20\n",
      "Nepal\n"
     ]
    }
   ],
   "source": [
    "print(a[0]['Name'])\n",
    "print(a[0]['Age'])\n",
    "print(a[0]['Add'])"
   ]
  },
  {
   "cell_type": "code",
   "execution_count": 9,
   "id": "a452459a",
   "metadata": {},
   "outputs": [
    {
     "name": "stdout",
     "output_type": "stream",
     "text": [
      "Enter n=1\n",
      "Enter nameHari\n",
      "Enter age18\n",
      "Enter addressAustralia\n",
      "{'Name': 'Hari', 'Age': 18, 'Address': 'Australia'}\n",
      "[{'Name': 'Hari', 'Age': 18, 'Address': 'Australia'}]\n"
     ]
    }
   ],
   "source": [
    "l = []\n",
    "d = {}\n",
    "n = int(input(\"Enter n=\"))\n",
    "for i in range(n):\n",
    "    name = input(\"Enter name\")\n",
    "    age = int(input(\"Enter age\"))\n",
    "    add = input(\"Enter address\")\n",
    "    d['Name'] = name\n",
    "    d['Age'] = age\n",
    "    d['Address'] = add\n",
    "    l.append(d)\n",
    "print(d)\n",
    "print(l)"
   ]
  },
  {
   "cell_type": "code",
   "execution_count": 10,
   "id": "e73468c1",
   "metadata": {},
   "outputs": [],
   "source": [
    "del l[0]"
   ]
  },
  {
   "cell_type": "code",
   "execution_count": 11,
   "id": "7493ed4a",
   "metadata": {},
   "outputs": [
    {
     "name": "stdout",
     "output_type": "stream",
     "text": [
      "[]\n"
     ]
    }
   ],
   "source": [
    "print(l)"
   ]
  },
  {
   "cell_type": "code",
   "execution_count": 14,
   "id": "ea0797ac",
   "metadata": {},
   "outputs": [
    {
     "ename": "SyntaxError",
     "evalue": "invalid syntax (1344604459.py, line 1)",
     "output_type": "error",
     "traceback": [
      "\u001b[1;36m  File \u001b[1;32m\"C:\\Program Files\\KMSpico\\temp\\ipykernel_19604\\1344604459.py\"\u001b[1;36m, line \u001b[1;32m1\u001b[0m\n\u001b[1;33m    l[0]{'Name'} = 'Shyam'\u001b[0m\n\u001b[1;37m        ^\u001b[0m\n\u001b[1;31mSyntaxError\u001b[0m\u001b[1;31m:\u001b[0m invalid syntax\n"
     ]
    }
   ],
   "source": [
    "l[0]['Name'] = 'Shyam'\n",
    "l[0]['Age'] = 20\n",
    "l[0]{['Address'] = 'America'"
   ]
  },
  {
   "cell_type": "code",
   "execution_count": null,
   "id": "969af174",
   "metadata": {},
   "outputs": [],
   "source": []
  }
 ],
 "metadata": {
  "kernelspec": {
   "display_name": "Python 3 (ipykernel)",
   "language": "python",
   "name": "python3"
  },
  "language_info": {
   "codemirror_mode": {
    "name": "ipython",
    "version": 3
   },
   "file_extension": ".py",
   "mimetype": "text/x-python",
   "name": "python",
   "nbconvert_exporter": "python",
   "pygments_lexer": "ipython3",
   "version": "3.9.13"
  }
 },
 "nbformat": 4,
 "nbformat_minor": 5
}
