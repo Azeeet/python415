{
 "cells": [
  {
   "cell_type": "code",
   "execution_count": 2,
   "id": "b026ba9d",
   "metadata": {},
   "outputs": [
    {
     "name": "stdout",
     "output_type": "stream",
     "text": [
      "False\n",
      "True\n"
     ]
    }
   ],
   "source": [
    "a = 10\n",
    "print(a<0)\n",
    "print(a>0)"
   ]
  },
  {
   "cell_type": "code",
   "execution_count": 10,
   "id": "58f28f88",
   "metadata": {},
   "outputs": [
    {
     "name": "stdout",
     "output_type": "stream",
     "text": [
      "False\n"
     ]
    }
   ],
   "source": [
    "a = 20\n",
    "b = 20\n",
    "print(a!=b)"
   ]
  },
  {
   "cell_type": "code",
   "execution_count": 12,
   "id": "3319b455",
   "metadata": {},
   "outputs": [
    {
     "name": "stdout",
     "output_type": "stream",
     "text": [
      "Enter a=5\n",
      "The number is odd\n"
     ]
    }
   ],
   "source": [
    "a = int(input(\"Enter a=\"))\n",
    "if a % 2 == 0:\n",
    "    print(\"The number is even\")\n",
    "else:\n",
    "    print(\"The number is odd\")"
   ]
  },
  {
   "cell_type": "code",
   "execution_count": 17,
   "id": "08703ec8",
   "metadata": {},
   "outputs": [
    {
     "name": "stdout",
     "output_type": "stream",
     "text": [
      "Enter a=5\n",
      "Enter b=5\n",
      "Both are equal\n"
     ]
    }
   ],
   "source": [
    "a = int(input(\"Enter a=\"))\n",
    "b = int(input(\"Enter b=\"))\n",
    "if a>b:\n",
    "    print(a, \"is gretaer than\", b)\n",
    "elif b>a:\n",
    "    print(b, \"is greater than\", a)\n",
    "else:\n",
    "    print(\"Both are equal\")"
   ]
  },
  {
   "cell_type": "code",
   "execution_count": 18,
   "id": "20f1ea34",
   "metadata": {},
   "outputs": [
    {
     "name": "stdout",
     "output_type": "stream",
     "text": [
      "Enter mark in physics=80\n",
      "Enter mark in chemistry=65\n",
      "Enter mark in biology=75\n",
      "Enter mark in math=85\n",
      "Enter mark in english=90\n",
      "total marks= 395\n",
      "Percentage= 79.0\n",
      "Grade= B\n"
     ]
    }
   ],
   "source": [
    "physics = int(input(\"Enter mark in physics=\"))\n",
    "chemistry = int(input(\"Enter mark in chemistry=\"))\n",
    "biology = int(input(\"Enter mark in biology=\"))\n",
    "math = int(input(\"Enter mark in math=\"))\n",
    "english = int(input(\"Enter mark in english=\"))\n",
    "total = physics + chemistry + biology + math + english\n",
    "per = total/5\n",
    "if per>=80:\n",
    "    grade = \"A\"\n",
    "elif per>=60:\n",
    "    grade = \"B\"\n",
    "elif per>=40:\n",
    "    grade = \"C\"\n",
    "else:\n",
    "    grade = \"F\"\n",
    "    \n",
    "print(\"total marks=\", total)\n",
    "print(\"Percentage=\", per)\n",
    "print(\"Grade=\", grade)"
   ]
  },
  {
   "cell_type": "code",
   "execution_count": 23,
   "id": "1557bc55",
   "metadata": {},
   "outputs": [
    {
     "name": "stdout",
     "output_type": "stream",
     "text": [
      "True\n",
      "True\n"
     ]
    }
   ],
   "source": [
    "a = True\n",
    "b = True\n",
    "print(a & b)\n",
    "print(a | b)"
   ]
  }
 ],
 "metadata": {
  "kernelspec": {
   "display_name": "Python 3 (ipykernel)",
   "language": "python",
   "name": "python3"
  },
  "language_info": {
   "codemirror_mode": {
    "name": "ipython",
    "version": 3
   },
   "file_extension": ".py",
   "mimetype": "text/x-python",
   "name": "python",
   "nbconvert_exporter": "python",
   "pygments_lexer": "ipython3",
   "version": "3.9.13"
  }
 },
 "nbformat": 4,
 "nbformat_minor": 5
}
